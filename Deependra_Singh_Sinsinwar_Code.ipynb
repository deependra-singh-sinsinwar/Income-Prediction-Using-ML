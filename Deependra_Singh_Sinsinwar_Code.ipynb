{
  "cells": [
    {
      "cell_type": "markdown",
      "metadata": {
        "id": "KEwiSMY8qJjS"
      },
      "source": [
        "## INCOME PREDICTION\n",
        "Name: Deependra Singh Sinsinwar\n",
        "Roll Number: 19097\n",
        "Department: EECS\n",
        "Course: DSE 308"
      ]
    },
    {
      "cell_type": "markdown",
      "metadata": {
        "id": "PMdjM_NehXcB"
      },
      "source": [
        "# Reading files"
      ]
    },
    {
      "cell_type": "code",
      "execution_count": null,
      "metadata": {
        "colab": {
          "base_uri": "https://localhost:8080/",
          "height": 659
        },
        "id": "dlRpAq-pQXjW",
        "outputId": "aeaac627-7f5f-4e9f-a246-1cd29c4aa559"
      },
      "outputs": [
        {
          "data": {
            "text/html": [
              "<div>\n",
              "<style scoped>\n",
              "    .dataframe tbody tr th:only-of-type {\n",
              "        vertical-align: middle;\n",
              "    }\n",
              "\n",
              "    .dataframe tbody tr th {\n",
              "        vertical-align: top;\n",
              "    }\n",
              "\n",
              "    .dataframe thead th {\n",
              "        text-align: right;\n",
              "    }\n",
              "</style>\n",
              "<table border=\"1\" class=\"dataframe\">\n",
              "  <thead>\n",
              "    <tr style=\"text-align: right;\">\n",
              "      <th></th>\n",
              "      <th>Unnamed: 0</th>\n",
              "      <th>age</th>\n",
              "      <th>workclass</th>\n",
              "      <th>fnlwgt</th>\n",
              "      <th>education</th>\n",
              "      <th>educational-num</th>\n",
              "      <th>marital-status</th>\n",
              "      <th>occupation</th>\n",
              "      <th>relationship</th>\n",
              "      <th>race</th>\n",
              "      <th>gender</th>\n",
              "      <th>capital-gain</th>\n",
              "      <th>capital-loss</th>\n",
              "      <th>hours-per-week</th>\n",
              "      <th>native-country</th>\n",
              "    </tr>\n",
              "  </thead>\n",
              "  <tbody>\n",
              "    <tr>\n",
              "      <th>0</th>\n",
              "      <td>0</td>\n",
              "      <td>67</td>\n",
              "      <td>Private</td>\n",
              "      <td>366425</td>\n",
              "      <td>Doctorate</td>\n",
              "      <td>16</td>\n",
              "      <td>Divorced</td>\n",
              "      <td>Exec-managerial</td>\n",
              "      <td>Not-in-family</td>\n",
              "      <td>White</td>\n",
              "      <td>Male</td>\n",
              "      <td>99999</td>\n",
              "      <td>0</td>\n",
              "      <td>60</td>\n",
              "      <td>United-States</td>\n",
              "    </tr>\n",
              "    <tr>\n",
              "      <th>1</th>\n",
              "      <td>1</td>\n",
              "      <td>17</td>\n",
              "      <td>Private</td>\n",
              "      <td>244602</td>\n",
              "      <td>12th</td>\n",
              "      <td>8</td>\n",
              "      <td>Never-married</td>\n",
              "      <td>Other-service</td>\n",
              "      <td>Own-child</td>\n",
              "      <td>White</td>\n",
              "      <td>Male</td>\n",
              "      <td>0</td>\n",
              "      <td>0</td>\n",
              "      <td>15</td>\n",
              "      <td>United-States</td>\n",
              "    </tr>\n",
              "    <tr>\n",
              "      <th>2</th>\n",
              "      <td>2</td>\n",
              "      <td>31</td>\n",
              "      <td>Private</td>\n",
              "      <td>174201</td>\n",
              "      <td>Bachelors</td>\n",
              "      <td>13</td>\n",
              "      <td>Married-civ-spouse</td>\n",
              "      <td>Exec-managerial</td>\n",
              "      <td>Husband</td>\n",
              "      <td>White</td>\n",
              "      <td>Male</td>\n",
              "      <td>0</td>\n",
              "      <td>0</td>\n",
              "      <td>40</td>\n",
              "      <td>United-States</td>\n",
              "    </tr>\n",
              "    <tr>\n",
              "      <th>3</th>\n",
              "      <td>3</td>\n",
              "      <td>58</td>\n",
              "      <td>State-gov</td>\n",
              "      <td>110199</td>\n",
              "      <td>7th-8th</td>\n",
              "      <td>4</td>\n",
              "      <td>Married-civ-spouse</td>\n",
              "      <td>Transport-moving</td>\n",
              "      <td>Husband</td>\n",
              "      <td>White</td>\n",
              "      <td>Male</td>\n",
              "      <td>0</td>\n",
              "      <td>0</td>\n",
              "      <td>40</td>\n",
              "      <td>United-States</td>\n",
              "    </tr>\n",
              "    <tr>\n",
              "      <th>4</th>\n",
              "      <td>4</td>\n",
              "      <td>25</td>\n",
              "      <td>State-gov</td>\n",
              "      <td>149248</td>\n",
              "      <td>Some-college</td>\n",
              "      <td>10</td>\n",
              "      <td>Never-married</td>\n",
              "      <td>Other-service</td>\n",
              "      <td>Not-in-family</td>\n",
              "      <td>Black</td>\n",
              "      <td>Male</td>\n",
              "      <td>0</td>\n",
              "      <td>0</td>\n",
              "      <td>40</td>\n",
              "      <td>United-States</td>\n",
              "    </tr>\n",
              "    <tr>\n",
              "      <th>...</th>\n",
              "      <td>...</td>\n",
              "      <td>...</td>\n",
              "      <td>...</td>\n",
              "      <td>...</td>\n",
              "      <td>...</td>\n",
              "      <td>...</td>\n",
              "      <td>...</td>\n",
              "      <td>...</td>\n",
              "      <td>...</td>\n",
              "      <td>...</td>\n",
              "      <td>...</td>\n",
              "      <td>...</td>\n",
              "      <td>...</td>\n",
              "      <td>...</td>\n",
              "      <td>...</td>\n",
              "    </tr>\n",
              "    <tr>\n",
              "      <th>43952</th>\n",
              "      <td>43952</td>\n",
              "      <td>52</td>\n",
              "      <td>Private</td>\n",
              "      <td>68982</td>\n",
              "      <td>Bachelors</td>\n",
              "      <td>13</td>\n",
              "      <td>Married-civ-spouse</td>\n",
              "      <td>Exec-managerial</td>\n",
              "      <td>Husband</td>\n",
              "      <td>White</td>\n",
              "      <td>Male</td>\n",
              "      <td>0</td>\n",
              "      <td>0</td>\n",
              "      <td>50</td>\n",
              "      <td>United-States</td>\n",
              "    </tr>\n",
              "    <tr>\n",
              "      <th>43953</th>\n",
              "      <td>43953</td>\n",
              "      <td>19</td>\n",
              "      <td>Private</td>\n",
              "      <td>116562</td>\n",
              "      <td>HS-grad</td>\n",
              "      <td>9</td>\n",
              "      <td>Never-married</td>\n",
              "      <td>Other-service</td>\n",
              "      <td>Own-child</td>\n",
              "      <td>White</td>\n",
              "      <td>Female</td>\n",
              "      <td>0</td>\n",
              "      <td>0</td>\n",
              "      <td>40</td>\n",
              "      <td>United-States</td>\n",
              "    </tr>\n",
              "    <tr>\n",
              "      <th>43954</th>\n",
              "      <td>43954</td>\n",
              "      <td>30</td>\n",
              "      <td>Private</td>\n",
              "      <td>197947</td>\n",
              "      <td>Some-college</td>\n",
              "      <td>10</td>\n",
              "      <td>Divorced</td>\n",
              "      <td>Sales</td>\n",
              "      <td>Not-in-family</td>\n",
              "      <td>White</td>\n",
              "      <td>Male</td>\n",
              "      <td>0</td>\n",
              "      <td>0</td>\n",
              "      <td>58</td>\n",
              "      <td>United-States</td>\n",
              "    </tr>\n",
              "    <tr>\n",
              "      <th>43955</th>\n",
              "      <td>43955</td>\n",
              "      <td>46</td>\n",
              "      <td>Private</td>\n",
              "      <td>97883</td>\n",
              "      <td>Bachelors</td>\n",
              "      <td>13</td>\n",
              "      <td>Never-married</td>\n",
              "      <td>Sales</td>\n",
              "      <td>Not-in-family</td>\n",
              "      <td>White</td>\n",
              "      <td>Female</td>\n",
              "      <td>0</td>\n",
              "      <td>0</td>\n",
              "      <td>35</td>\n",
              "      <td>United-States</td>\n",
              "    </tr>\n",
              "    <tr>\n",
              "      <th>43956</th>\n",
              "      <td>43956</td>\n",
              "      <td>30</td>\n",
              "      <td>Private</td>\n",
              "      <td>375827</td>\n",
              "      <td>HS-grad</td>\n",
              "      <td>9</td>\n",
              "      <td>Never-married</td>\n",
              "      <td>Handlers-cleaners</td>\n",
              "      <td>Other-relative</td>\n",
              "      <td>White</td>\n",
              "      <td>Male</td>\n",
              "      <td>0</td>\n",
              "      <td>0</td>\n",
              "      <td>40</td>\n",
              "      <td>United-States</td>\n",
              "    </tr>\n",
              "  </tbody>\n",
              "</table>\n",
              "<p>43957 rows × 15 columns</p>\n",
              "</div>"
            ],
            "text/plain": [
              "       Unnamed: 0  age  workclass  fnlwgt     education  educational-num  \\\n",
              "0               0   67    Private  366425     Doctorate               16   \n",
              "1               1   17    Private  244602          12th                8   \n",
              "2               2   31    Private  174201     Bachelors               13   \n",
              "3               3   58  State-gov  110199       7th-8th                4   \n",
              "4               4   25  State-gov  149248  Some-college               10   \n",
              "...           ...  ...        ...     ...           ...              ...   \n",
              "43952       43952   52    Private   68982     Bachelors               13   \n",
              "43953       43953   19    Private  116562       HS-grad                9   \n",
              "43954       43954   30    Private  197947  Some-college               10   \n",
              "43955       43955   46    Private   97883     Bachelors               13   \n",
              "43956       43956   30    Private  375827       HS-grad                9   \n",
              "\n",
              "           marital-status         occupation    relationship   race  gender  \\\n",
              "0                Divorced    Exec-managerial   Not-in-family  White    Male   \n",
              "1           Never-married      Other-service       Own-child  White    Male   \n",
              "2      Married-civ-spouse    Exec-managerial         Husband  White    Male   \n",
              "3      Married-civ-spouse   Transport-moving         Husband  White    Male   \n",
              "4           Never-married      Other-service   Not-in-family  Black    Male   \n",
              "...                   ...                ...             ...    ...     ...   \n",
              "43952  Married-civ-spouse    Exec-managerial         Husband  White    Male   \n",
              "43953       Never-married      Other-service       Own-child  White  Female   \n",
              "43954            Divorced              Sales   Not-in-family  White    Male   \n",
              "43955       Never-married              Sales   Not-in-family  White  Female   \n",
              "43956       Never-married  Handlers-cleaners  Other-relative  White    Male   \n",
              "\n",
              "       capital-gain  capital-loss  hours-per-week native-country  \n",
              "0             99999             0              60  United-States  \n",
              "1                 0             0              15  United-States  \n",
              "2                 0             0              40  United-States  \n",
              "3                 0             0              40  United-States  \n",
              "4                 0             0              40  United-States  \n",
              "...             ...           ...             ...            ...  \n",
              "43952             0             0              50  United-States  \n",
              "43953             0             0              40  United-States  \n",
              "43954             0             0              58  United-States  \n",
              "43955             0             0              35  United-States  \n",
              "43956             0             0              40  United-States  \n",
              "\n",
              "[43957 rows x 15 columns]"
            ]
          },
          "execution_count": 1,
          "metadata": {},
          "output_type": "execute_result"
        }
      ],
      "source": [
        "#importing both train data and labeled dataa\n",
        "import pandas as pd\n",
        "df=pd.read_csv(\"train.csv\")\n",
        "y=pd.read_csv(\"train_class_labels.csv\")\n",
        "df.columns\n",
        "df"
      ]
    },
    {
      "cell_type": "code",
      "execution_count": null,
      "metadata": {
        "id": "rWp-Cb6fwu6O"
      },
      "outputs": [],
      "source": [
        "#there is an extra column of index which will interfere in the implementation of code, so we will remove it from both datasets\n",
        "df.drop(\"Unnamed: 0\",axis=1, inplace=True)\n",
        "y.drop(\"Unnamed: 0\",axis=1, inplace=True)\n",
        "\n",
        "import warnings\n",
        "warnings.filterwarnings(\"ignore\")"
      ]
    },
    {
      "cell_type": "markdown",
      "metadata": {
        "id": "LJfh2sc1hJhh"
      },
      "source": [
        "# Visualization"
      ]
    },
    {
      "cell_type": "code",
      "execution_count": null,
      "metadata": {
        "id": "4P_kOgXeYJoK",
        "outputId": "c22bbd9f-ae26-4ad4-f3f4-790db9970b28"
      },
      "outputs": [
        {
          "data": {
            "image/png": "[encoded data removed]",
            "text/plain": [
              "<Figure size 432x288 with 1 Axes>"
            ]
          },
          "metadata": {},
          "output_type": "display_data"
        },
        {
          "name": "stdout",
          "output_type": "stream",
          "text": [
            "\n",
            "\n"
          ]
        },
        {
          "data": {
            "image/png": "[encoded data removed]",
            "text/plain": [
              "<Figure size 432x288 with 1 Axes>"
            ]
          },
          "metadata": {},
          "output_type": "display_data"
        },
        {
          "name": "stdout",
          "output_type": "stream",
          "text": [
            "\n",
            "\n"
          ]
        },
        {
          "data": {
            "image/png": "[encoded data removed]",
            "text/plain": [
              "<Figure size 432x288 with 1 Axes>"
            ]
          },
          "metadata": {},
          "output_type": "display_data"
        },
        {
          "name": "stdout",
          "output_type": "stream",
          "text": [
            "\n",
            "\n"
          ]
        },
        {
          "data": {
            "image/png": "[encoded data removed]",
            "text/plain": [
              "<Figure size 432x288 with 1 Axes>"
            ]
          },
          "metadata": {},
          "output_type": "display_data"
        },
        {
          "name": "stdout",
          "output_type": "stream",
          "text": [
            "\n",
            "\n"
          ]
        },
        {
          "data": {
            "image/png": "[encoded data removed]",
            "text/plain": [
              "<Figure size 432x288 with 1 Axes>"
            ]
          },
          "metadata": {},
          "output_type": "display_data"
        },
        {
          "name": "stdout",
          "output_type": "stream",
          "text": [
            "\n",
            "\n"
          ]
        },
        {
          "data": {
            "image/png": "[encoded data removed]",
            "text/plain": [
              "<Figure size 432x288 with 1 Axes>"
            ]
          },
          "metadata": {},
          "output_type": "display_data"
        },
        {
          "name": "stdout",
          "output_type": "stream",
          "text": [
            "\n",
            "\n"
          ]
        },
        {
          "data": {
            "image/png": "[encoded data removed]",
            "text/plain": [
              "<Figure size 432x288 with 1 Axes>"
            ]
          },
          "metadata": {},
          "output_type": "display_data"
        },
        {
          "name": "stdout",
          "output_type": "stream",
          "text": [
            "\n",
            "\n"
          ]
        },
        {
          "data": {
            "image/png": "[encoded data removed]",
            "text/plain": [
              "<Figure size 432x288 with 1 Axes>"
            ]
          },
          "metadata": {},
          "output_type": "display_data"
        },
        {
          "name": "stdout",
          "output_type": "stream",
          "text": [
            "\n",
            "\n"
          ]
        },
        {
          "data": {
            "image/png": "[encoded data removed]",
            "text/plain": [
              "<Figure size 432x288 with 1 Axes>"
            ]
          },
          "metadata": {},
          "output_type": "display_data"
        },
        {
          "name": "stdout",
          "output_type": "stream",
          "text": [
            "\n",
            "\n"
          ]
        },
        {
          "data": {
            "image/png": "[encoded data removed]",
            "text/plain": [
              "<Figure size 432x288 with 1 Axes>"
            ]
          },
          "metadata": {},
          "output_type": "display_data"
        },
        {
          "name": "stdout",
          "output_type": "stream",
          "text": [
            "\n",
            "\n"
          ]
        },
        {
          "data": {
            "image/png": "[encoded data removed]",
            "text/plain": [
              "<Figure size 432x288 with 1 Axes>"
            ]
          },
          "metadata": {},
          "output_type": "display_data"
        },
        {
          "name": "stdout",
          "output_type": "stream",
          "text": [
            "\n",
            "\n"
          ]
        },
        {
          "data": {
            "image/png": "[encoded data removed]",
            "text/plain": [
              "<Figure size 432x288 with 1 Axes>"
            ]
          },
          "metadata": {},
          "output_type": "display_data"
        },
        {
          "name": "stdout",
          "output_type": "stream",
          "text": [
            "\n",
            "\n"
          ]
        },
        {
          "data": {
            "image/png": "[encoded data removed]",
            "text/plain": [
              "<Figure size 432x288 with 1 Axes>"
            ]
          },
          "metadata": {},
          "output_type": "display_data"
        }
      ],
      "source": [
        "# importing the required library\n",
        " \n",
        "import seaborn as sns\n",
        "import matplotlib.pyplot as plt\n",
        "\n",
        "\n",
        "\n",
        "#i have tried various plotting techniques for this particular but none seems to fit due to huge variance, after searching on google i came up with distplot\n",
        "# count plot on single categorical variable\n",
        "#sns.countplot(x ='age', data=df, )\n",
        "sns.set_style('whitegrid')\n",
        "sns.distplot(df[\"age\"])\n",
        "plt.show()\n",
        "# Show the plot\n",
        "#plt.tight_layout()\n",
        "#plt.show()\n",
        "\n",
        "print(\"\\n\");\n",
        "sns.countplot(x ='workclass', data=df, )\n",
        "plt.xticks(rotation=90)\n",
        "plt.show()\n",
        "\n",
        "\n",
        "\n",
        "print(\"\\n\");\n",
        "sns.countplot(x ='education', data=df, )\n",
        "plt.xticks(rotation=90)\n",
        "plt.show()\n",
        "\n",
        "\n",
        "print(\"\\n\");\n",
        "sns.countplot(x ='educational-num', data=df, )\n",
        "#plt.xticks(rotation=90)\n",
        "plt.show()\n",
        "\n",
        "\n",
        "print(\"\\n\");\n",
        "sns.countplot(x ='marital-status', data=df, )\n",
        "plt.xticks(rotation=90)\n",
        "plt.show()\n",
        "\n",
        "\n",
        "print(\"\\n\");\n",
        "sns.countplot(x ='occupation', data=df, )\n",
        "plt.xticks(rotation=90)\n",
        "plt.show()\n",
        "\n",
        "\n",
        "print(\"\\n\");\n",
        "sns.countplot(x ='relationship', data=df, )\n",
        "plt.xticks(rotation=90)\n",
        "plt.show()\n",
        "\n",
        "\n",
        "print(\"\\n\");\n",
        "sns.countplot(x ='race', data=df, )\n",
        "plt.xticks(rotation=90)\n",
        "plt.show()\n",
        "\n",
        "\n",
        "print(\"\\n\");\n",
        "sns.countplot(x ='gender', data=df, )\n",
        "#plt.xticks(rotation=90)\n",
        "plt.show()\n",
        "\n",
        "\n",
        "\n",
        "print(\"\\n\");\n",
        "sns.countplot(x ='native-country', data=df, )\n",
        "plt.xticks(rotation=90)\n",
        "plt.show()\n",
        "\n",
        "print(\"\\n\")\n",
        "sns.set_style('whitegrid')\n",
        "sns.distplot(df['capital-gain'])\n",
        "plt.show()\n",
        "\n",
        "print(\"\\n\")\n",
        "sns.set_style('whitegrid')\n",
        "sns.distplot(df['capital-loss'])\n",
        "plt.show()\n",
        "\n",
        "print(\"\\n\")\n",
        "sns.set_style('whitegrid')\n",
        "sns.distplot(df['hours-per-week'])\n",
        "plt.show()\n",
        "\n"
      ]
    },
    {
      "cell_type": "code",
      "execution_count": null,
      "metadata": {
        "colab": {
          "base_uri": "https://localhost:8080/",
          "height": 363
        },
        "id": "bYwv3HloPr8K",
        "outputId": "1d36dfe3-5b75-4c6d-defd-d83c75370809"
      },
      "outputs": [
        {
          "data": {
            "text/plain": [
              "<AxesSubplot:>"
            ]
          },
          "execution_count": 4,
          "metadata": {},
          "output_type": "execute_result"
        },
        {
          "data": {
            "image/png": "[encoded data removed]",
            "text/plain": [
              "<Figure size 432x288 with 2 Axes>"
            ]
          },
          "metadata": {},
          "output_type": "display_data"
        }
      ],
      "source": [
        "import seaborn as sns\n",
        "sns.heatmap(df.corr(), annot=True)"
      ]
    },
    {
      "cell_type": "markdown",
      "metadata": {
        "id": "AbrPLErGuJsG"
      },
      "source": [
        "# Finding number of missing values "
      ]
    },
    {
      "cell_type": "code",
      "execution_count": null,
      "metadata": {
        "colab": {
          "base_uri": "https://localhost:8080/"
        },
        "id": "fRJARFgnlTUS",
        "outputId": "6701fec3-08ad-49f0-dacb-aa73514f2691"
      },
      "outputs": [
        {
          "name": "stdout",
          "output_type": "stream",
          "text": [
            "<class 'pandas.core.frame.DataFrame'>\n",
            "RangeIndex: 43957 entries, 0 to 43956\n",
            "Data columns (total 14 columns):\n",
            " #   Column           Non-Null Count  Dtype \n",
            "---  ------           --------------  ----- \n",
            " 0   age              43957 non-null  int64 \n",
            " 1   workclass        41459 non-null  object\n",
            " 2   fnlwgt           43957 non-null  int64 \n",
            " 3   education        43957 non-null  object\n",
            " 4   educational-num  43957 non-null  int64 \n",
            " 5   marital-status   43957 non-null  object\n",
            " 6   occupation       41451 non-null  object\n",
            " 7   relationship     43957 non-null  object\n",
            " 8   race             43957 non-null  object\n",
            " 9   gender           43957 non-null  object\n",
            " 10  capital-gain     43957 non-null  int64 \n",
            " 11  capital-loss     43957 non-null  int64 \n",
            " 12  hours-per-week   43957 non-null  int64 \n",
            " 13  native-country   43194 non-null  object\n",
            "dtypes: int64(6), object(8)\n",
            "memory usage: 4.7+ MB\n"
          ]
        }
      ],
      "source": [
        "#we know the total number of rows are 43957 and by looking at the info we can say how many features have missing values\n",
        "df.info()"
      ]
    },
    {
      "cell_type": "markdown",
      "metadata": {
        "id": "m_TeTISUhdz2"
      },
      "source": [
        "# Reading the Columns with Missing Values\n",
        "\n"
      ]
    },
    {
      "cell_type": "code",
      "execution_count": null,
      "metadata": {
        "colab": {
          "base_uri": "https://localhost:8080/"
        },
        "id": "S-mFLxOcNt5z",
        "outputId": "3ce15e0a-77cb-4f81-ceb4-59e1bb4e3eb8"
      },
      "outputs": [
        {
          "data": {
            "text/plain": [
              "Private             30587\n",
              "Self-emp-not-inc     3464\n",
              "Local-gov            2822\n",
              "State-gov            1756\n",
              "Self-emp-inc         1518\n",
              "Federal-gov          1284\n",
              "Without-pay            20\n",
              "Never-worked            8\n",
              "Name: workclass, dtype: int64"
            ]
          },
          "execution_count": 6,
          "metadata": {},
          "output_type": "execute_result"
        }
      ],
      "source": [
        "# As you can see in above displayed data, there are only 3 columns with any sort of null values which are: \n",
        "# workclass, occupation and native-country, we only need to treat them\n",
        "df.workclass.value_counts()"
      ]
    },
    {
      "cell_type": "code",
      "execution_count": null,
      "metadata": {
        "colab": {
          "base_uri": "https://localhost:8080/"
        },
        "id": "0z35kaWFp12p",
        "outputId": "d2a7c106-5065-4b77-961e-fe8c458508e4"
      },
      "outputs": [
        {
          "data": {
            "text/plain": [
              "Craft-repair         5519\n",
              "Prof-specialty       5518\n",
              "Exec-managerial      5506\n",
              "Adm-clerical         5004\n",
              "Sales                4965\n",
              "Other-service        4448\n",
              "Machine-op-inspct    2711\n",
              "Transport-moving     2121\n",
              "Handlers-cleaners    1878\n",
              "Farming-fishing      1348\n",
              "Tech-support         1321\n",
              "Protective-serv       874\n",
              "Priv-house-serv       225\n",
              "Armed-Forces           13\n",
              "Name: occupation, dtype: int64"
            ]
          },
          "execution_count": 7,
          "metadata": {},
          "output_type": "execute_result"
        }
      ],
      "source": [
        "df.occupation.value_counts()"
      ]
    },
    {
      "cell_type": "code",
      "execution_count": null,
      "metadata": {
        "colab": {
          "base_uri": "https://localhost:8080/"
        },
        "id": "psu4_mdSveEN",
        "outputId": "690b406b-02da-43b0-fba6-652b57194807"
      },
      "outputs": [
        {
          "data": {
            "text/plain": [
              "United-States                 39429\n",
              "Mexico                          880\n",
              "Philippines                     273\n",
              "Germany                         188\n",
              "Puerto-Rico                     167\n",
              "Canada                          158\n",
              "El-Salvador                     145\n",
              "India                           134\n",
              "Cuba                            124\n",
              "China                           113\n",
              "England                         109\n",
              "South                           105\n",
              "Dominican-Republic               97\n",
              "Jamaica                          97\n",
              "Italy                            94\n",
              "Japan                            83\n",
              "Guatemala                        79\n",
              "Vietnam                          77\n",
              "Columbia                         75\n",
              "Poland                           72\n",
              "Haiti                            71\n",
              "Portugal                         59\n",
              "Taiwan                           58\n",
              "Iran                             52\n",
              "Nicaragua                        46\n",
              "Greece                           44\n",
              "Ecuador                          42\n",
              "Peru                             40\n",
              "France                           32\n",
              "Ireland                          32\n",
              "Thailand                         29\n",
              "Hong                             29\n",
              "Cambodia                         24\n",
              "Trinadad&Tobago                  22\n",
              "Honduras                         20\n",
              "Outlying-US(Guam-USVI-etc)       19\n",
              "Scotland                         19\n",
              "Yugoslavia                       19\n",
              "Laos                             19\n",
              "Hungary                          18\n",
              "Holand-Netherlands                1\n",
              "Name: native-country, dtype: int64"
            ]
          },
          "execution_count": 8,
          "metadata": {},
          "output_type": "execute_result"
        }
      ],
      "source": [
        "df[\"native-country\"].value_counts()"
      ]
    },
    {
      "cell_type": "markdown",
      "metadata": {
        "id": "PAxnHT_UrvqF"
      },
      "source": [
        "# Skewing the data"
      ]
    },
    {
      "cell_type": "code",
      "execution_count": null,
      "metadata": {
        "colab": {
          "base_uri": "https://localhost:8080/"
        },
        "id": "bu378CzLrvVA",
        "outputId": "c066c274-2ecf-43d2-c641-2f8687f185b1"
      },
      "outputs": [
        {
          "data": {
            "text/plain": [
              "age                 0.559838\n",
              "fnlwgt              1.459951\n",
              "educational-num    -0.318839\n",
              "capital-gain       11.760659\n",
              "capital-loss        4.546897\n",
              "hours-per-week      0.238426\n",
              "dtype: float64"
            ]
          },
          "execution_count": 9,
          "metadata": {},
          "output_type": "execute_result"
        }
      ],
      "source": [
        "df.skew()"
      ]
    },
    {
      "cell_type": "markdown",
      "metadata": {
        "id": "7THaVr_rZV-t"
      },
      "source": [
        "# Treating missing values"
      ]
    },
    {
      "cell_type": "code",
      "execution_count": null,
      "metadata": {
        "id": "RT9W41RVZEV4"
      },
      "outputs": [],
      "source": [
        "df[\"workclass\"]=df[\"workclass\"].fillna(\"Private\")\n",
        "df[\"occupation\"]=df[\"occupation\"].fillna(\"Craft-repair\")\n",
        "df[\"native-country\"]=df[\"native-country\"].fillna(\"United-States\")"
      ]
    },
    {
      "cell_type": "markdown",
      "metadata": {
        "id": "LWFk7K1Jhhk7"
      },
      "source": [
        "# Reading the treated columns "
      ]
    },
    {
      "cell_type": "code",
      "execution_count": null,
      "metadata": {
        "colab": {
          "base_uri": "https://localhost:8080/"
        },
        "id": "bU8gdQ0zhg9Y",
        "outputId": "63112e8f-5ac8-49e3-bf8e-79407578a448"
      },
      "outputs": [
        {
          "name": "stdout",
          "output_type": "stream",
          "text": [
            "Private             33085\n",
            "Self-emp-not-inc     3464\n",
            "Local-gov            2822\n",
            "State-gov            1756\n",
            "Self-emp-inc         1518\n",
            "Federal-gov          1284\n",
            "Without-pay            20\n",
            "Never-worked            8\n",
            "Name: workclass, dtype: int64\n",
            "\n",
            "\n",
            "\n",
            "Craft-repair         8025\n",
            "Prof-specialty       5518\n",
            "Exec-managerial      5506\n",
            "Adm-clerical         5004\n",
            "Sales                4965\n",
            "Other-service        4448\n",
            "Machine-op-inspct    2711\n",
            "Transport-moving     2121\n",
            "Handlers-cleaners    1878\n",
            "Farming-fishing      1348\n",
            "Tech-support         1321\n",
            "Protective-serv       874\n",
            "Priv-house-serv       225\n",
            "Armed-Forces           13\n",
            "Name: occupation, dtype: int64\n",
            "\n",
            "\n",
            "\n",
            "United-States                 40192\n",
            "Mexico                          880\n",
            "Philippines                     273\n",
            "Germany                         188\n",
            "Puerto-Rico                     167\n",
            "Canada                          158\n",
            "El-Salvador                     145\n",
            "India                           134\n",
            "Cuba                            124\n",
            "China                           113\n",
            "England                         109\n",
            "South                           105\n",
            "Dominican-Republic               97\n",
            "Jamaica                          97\n",
            "Italy                            94\n",
            "Japan                            83\n",
            "Guatemala                        79\n",
            "Vietnam                          77\n",
            "Columbia                         75\n",
            "Poland                           72\n",
            "Haiti                            71\n",
            "Portugal                         59\n",
            "Taiwan                           58\n",
            "Iran                             52\n",
            "Nicaragua                        46\n",
            "Greece                           44\n",
            "Ecuador                          42\n",
            "Peru                             40\n",
            "France                           32\n",
            "Ireland                          32\n",
            "Thailand                         29\n",
            "Hong                             29\n",
            "Cambodia                         24\n",
            "Trinadad&Tobago                  22\n",
            "Honduras                         20\n",
            "Outlying-US(Guam-USVI-etc)       19\n",
            "Scotland                         19\n",
            "Yugoslavia                       19\n",
            "Laos                             19\n",
            "Hungary                          18\n",
            "Holand-Netherlands                1\n",
            "Name: native-country, dtype: int64\n"
          ]
        }
      ],
      "source": [
        "print(df.workclass.value_counts())\n",
        "print(\"\\n\\n\")\n",
        "print(df.occupation.value_counts())\n",
        "print(\"\\n\\n\")\n",
        "print(df[\"native-country\"].value_counts())"
      ]
    },
    {
      "cell_type": "markdown",
      "metadata": {
        "id": "iR4ymL9BhqSM"
      },
      "source": [
        "# Encoding Data"
      ]
    },
    {
      "cell_type": "code",
      "execution_count": null,
      "metadata": {
        "id": "cTDlbXWdhvfe"
      },
      "outputs": [],
      "source": [
        "#my dataset has both categorical and numerical data, i need to encode categorical data to apply models to it\n",
        "import pandas as pd\n",
        "from sklearn.preprocessing import LabelEncoder\n",
        "Labenc=LabelEncoder()\n",
        "df[\"workclass\"]=Labenc.fit_transform(df[\"workclass\"])\n",
        "df[\"education\"]=Labenc.fit_transform(df[\"education\"])\n",
        "df[\"marital-status\"]=Labenc.fit_transform(df[\"marital-status\"])\n",
        "df[\"occupation\"]=Labenc.fit_transform(df[\"occupation\"])\n",
        "df[\"relationship\"]=Labenc.fit_transform(df[\"relationship\"])\n",
        "df[\"race\"]=Labenc.fit_transform(df[\"race\"])\n",
        "df[\"gender\"]=Labenc.fit_transform(df[\"gender\"])\n",
        "df[\"native-country\"]=Labenc.fit_transform(df[\"native-country\"])\n"
      ]
    },
    {
      "cell_type": "markdown",
      "metadata": {
        "id": "RKSzZqGfhvAK"
      },
      "source": [
        "# Scaling the Data"
      ]
    },
    {
      "cell_type": "code",
      "execution_count": null,
      "metadata": {
        "id": "Qo_WIzPThyGF"
      },
      "outputs": [],
      "source": [
        "#for making data points generalized so that the distance between them will be lower\n",
        "from sklearn.preprocessing import StandardScaler\n",
        "dataset=StandardScaler().fit_transform(df)\n",
        "x=pd.DataFrame(dataset,columns=df.columns)\n"
      ]
    },
    {
      "cell_type": "markdown",
      "metadata": {
        "id": "jIfaMI-Xh0xG"
      },
      "source": [
        "# Model Fitting\n"
      ]
    },
    {
      "cell_type": "code",
      "execution_count": null,
      "metadata": {
        "colab": {
          "base_uri": "https://localhost:8080/"
        },
        "id": "5hbO9b6qh1No",
        "outputId": "d72712d2-6dc1-4a3c-e3ef-99b4ca1b36e8"
      },
      "outputs": [
        {
          "name": "stdout",
          "output_type": "stream",
          "text": [
            "GaussianNB()\n",
            "Accuracy Score for test data 0.8057236452977843\n",
            "Accuracy Score for train data 0.8085358085358085\n",
            "              precision    recall  f1-score   support\n",
            "\n",
            "           0       0.82      0.95      0.88     16691\n",
            "           1       0.69      0.35      0.46      5288\n",
            "\n",
            "    accuracy                           0.81     21979\n",
            "   macro avg       0.76      0.65      0.67     21979\n",
            "weighted avg       0.79      0.81      0.78     21979\n",
            "\n",
            "[[15857   834]\n",
            " [ 3436  1852]]\n",
            "----------------------------------------\n",
            "KNeighborsClassifier()\n",
            "Accuracy Score for test data 0.823831839483143\n",
            "Accuracy Score for train data 0.8830648830648831\n",
            "              precision    recall  f1-score   support\n",
            "\n",
            "           0       0.87      0.90      0.89     16691\n",
            "           1       0.65      0.57      0.61      5288\n",
            "\n",
            "    accuracy                           0.82     21979\n",
            "   macro avg       0.76      0.74      0.75     21979\n",
            "weighted avg       0.82      0.82      0.82     21979\n",
            "\n",
            "[[15101  1590]\n",
            " [ 2282  3006]]\n",
            "----------------------------------------\n",
            "LogisticRegression()\n",
            "Accuracy Score for test data 0.8203284953819555\n",
            "Accuracy Score for train data 0.8281463281463282\n",
            "              precision    recall  f1-score   support\n",
            "\n",
            "           0       0.84      0.94      0.89     16691\n",
            "           1       0.70      0.45      0.55      5288\n",
            "\n",
            "    accuracy                           0.82     21979\n",
            "   macro avg       0.77      0.69      0.72     21979\n",
            "weighted avg       0.81      0.82      0.81     21979\n",
            "\n",
            "[[15664  1027]\n",
            " [ 2922  2366]]\n",
            "----------------------------------------\n",
            "RandomForestClassifier()\n",
            "Accuracy Score for test data 0.8555894262705309\n",
            "Accuracy Score for train data 0.9999544999544999\n",
            "              precision    recall  f1-score   support\n",
            "\n",
            "           0       0.88      0.93      0.91     16691\n",
            "           1       0.74      0.62      0.67      5288\n",
            "\n",
            "    accuracy                           0.86     21979\n",
            "   macro avg       0.81      0.77      0.79     21979\n",
            "weighted avg       0.85      0.86      0.85     21979\n",
            "\n",
            "[[15552  1139]\n",
            " [ 2035  3253]]\n",
            "----------------------------------------\n",
            "DecisionTreeClassifier()\n",
            "Accuracy Score for test data 0.8138677828836617\n",
            "Accuracy Score for train data 0.9999544999544999\n",
            "              precision    recall  f1-score   support\n",
            "\n",
            "           0       0.88      0.88      0.88     16691\n",
            "           1       0.61      0.62      0.61      5288\n",
            "\n",
            "    accuracy                           0.81     21979\n",
            "   macro avg       0.75      0.75      0.75     21979\n",
            "weighted avg       0.81      0.81      0.81     21979\n",
            "\n",
            "[[14621  2070]\n",
            " [ 2021  3267]]\n",
            "----------------------------------------\n",
            "GradientBoostingClassifier()\n",
            "Accuracy Score for test data 0.8627326083989263\n",
            "Accuracy Score for train data 0.8739193739193739\n",
            "              precision    recall  f1-score   support\n",
            "\n",
            "           0       0.88      0.95      0.91     16691\n",
            "           1       0.78      0.60      0.68      5288\n",
            "\n",
            "    accuracy                           0.86     21979\n",
            "   macro avg       0.83      0.77      0.79     21979\n",
            "weighted avg       0.86      0.86      0.86     21979\n",
            "\n",
            "[[15812   879]\n",
            " [ 2138  3150]]\n",
            "----------------------------------------\n",
            "AdaBoostClassifier()\n",
            "Accuracy Score for test data 0.8585012966922972\n",
            "Accuracy Score for train data 0.8652743652743653\n",
            "              precision    recall  f1-score   support\n",
            "\n",
            "           0       0.88      0.94      0.91     16691\n",
            "           1       0.76      0.60      0.67      5288\n",
            "\n",
            "    accuracy                           0.86     21979\n",
            "   macro avg       0.82      0.77      0.79     21979\n",
            "weighted avg       0.85      0.86      0.85     21979\n",
            "\n",
            "[[15710   981]\n",
            " [ 2129  3159]]\n",
            "----------------------------------------\n",
            "SVC()\n",
            "Accuracy Score for test data 0.8477182765366941\n",
            "Accuracy Score for train data 0.8612248612248612\n",
            "              precision    recall  f1-score   support\n",
            "\n",
            "           0       0.87      0.94      0.90     16691\n",
            "           1       0.76      0.54      0.63      5288\n",
            "\n",
            "    accuracy                           0.85     21979\n",
            "   macro avg       0.81      0.74      0.77     21979\n",
            "weighted avg       0.84      0.85      0.84     21979\n",
            "\n",
            "[[15770   921]\n",
            " [ 2426  2862]]\n",
            "----------------------------------------\n"
          ]
        }
      ],
      "source": [
        "from sklearn.naive_bayes import GaussianNB\n",
        "from sklearn.neighbors import KNeighborsClassifier\n",
        "from sklearn.linear_model import LogisticRegression\n",
        "from sklearn.ensemble import RandomForestClassifier, GradientBoostingClassifier, AdaBoostClassifier\n",
        "from sklearn.tree import DecisionTreeClassifier\n",
        "from sklearn.svm import SVC\n",
        "\n",
        "from sklearn.model_selection import train_test_split\n",
        "from sklearn.metrics import accuracy_score, classification_report, confusion_matrix\n",
        "\n",
        "gnb=GaussianNB()\n",
        "knn=KNeighborsClassifier()\n",
        "lg=LogisticRegression()\n",
        "rfc=RandomForestClassifier()\n",
        "dt=DecisionTreeClassifier()\n",
        "gbc=GradientBoostingClassifier()\n",
        "adbc=AdaBoostClassifier()\n",
        "svc=SVC()\n",
        "\n",
        "X_train, X_test, Y_train, Y_test = train_test_split(x, y, test_size=0.5, random_state=11)\n",
        "for i in [gnb,knn,lg,rfc,dt,gbc,adbc,svc]:\n",
        "    i.fit(X_train,Y_train)\n",
        "    pred=i.predict(X_test)\n",
        "    test_score=accuracy_score(Y_test,pred)\n",
        "    train_score=accuracy_score(Y_train,i.predict(X_train))\n",
        "    print(i)\n",
        "    print(\"Accuracy Score for test data\",accuracy_score(Y_test,pred))\n",
        "    print(\"Accuracy Score for train data\", accuracy_score(Y_train,i.predict(X_train)))\n",
        "    print(classification_report(Y_test,pred))\n",
        "    print(confusion_matrix(Y_test,pred))\n",
        "    print(\"----------------------------------------\")\n"
      ]
    },
    {
      "cell_type": "markdown",
      "metadata": {
        "id": "rqlnmsDOyYs-"
      },
      "source": [
        "# Hyper Parameter tuning"
      ]
    },
    {
      "cell_type": "markdown",
      "metadata": {
        "id": "EpWN_BPUtAGH"
      },
      "source": [
        "# Tuning GaussianNB()\n"
      ]
    },
    {
      "cell_type": "code",
      "execution_count": null,
      "metadata": {
        "colab": {
          "base_uri": "https://localhost:8080/"
        },
        "id": "m3TBoRXpssIE",
        "outputId": "308ad065-342e-4259-8f4c-4d76010c1d94"
      },
      "outputs": [
        {
          "name": "stdout",
          "output_type": "stream",
          "text": [
            "Naive_Bayes()\n",
            "Accuracy Score for Naive_Bayes 0.8057236452977843\n",
            "[[15857   834]\n",
            " [ 3436  1852]]\n",
            "              precision    recall  f1-score   support\n",
            "\n",
            "           0       0.82      0.95      0.88     16691\n",
            "           1       0.69      0.35      0.46      5288\n",
            "\n",
            "    accuracy                           0.81     21979\n",
            "   macro avg       0.76      0.65      0.67     21979\n",
            "weighted avg       0.79      0.81      0.78     21979\n",
            "\n"
          ]
        }
      ],
      "source": [
        "from sklearn.model_selection import GridSearchCV\n",
        "import numpy as np\n",
        "Naive_parameters = {'var_smoothing': np.logspace(0,-9,num = 1000)}\n",
        "Naivegrid = GridSearchCV(estimator = gnb, param_grid =Naive_parameters, cv=10, scoring ='f1_macro' )\n",
        "Naive_tuned = gnb.fit(X_train,Y_train)\n",
        "Y_Naive_predict = Naive_tuned.predict(X_test)\n",
        "\n",
        "\n",
        "\n",
        "Naivegrid.fit(X_train, Y_train)\n",
        "print(\"Naive_Bayes()\")\n",
        "print(\"Accuracy Score for Naive_Bayes\",str(accuracy_score(Y_test,Y_Naive_predict)))\n",
        "print(confusion_matrix(Y_test,Y_Naive_predict))\n",
        "print(classification_report(Y_test, Y_Naive_predict))"
      ]
    },
    {
      "cell_type": "code",
      "execution_count": null,
      "metadata": {
        "colab": {
          "base_uri": "https://localhost:8080/"
        },
        "id": "6SNIHzUjOzFz",
        "outputId": "efb96e28-16bd-4990-a912-6be930cd47b5"
      },
      "outputs": [
        {
          "data": {
            "text/plain": [
              "GaussianNB(var_smoothing=0.05366976945540476)"
            ]
          },
          "execution_count": 16,
          "metadata": {},
          "output_type": "execute_result"
        }
      ],
      "source": [
        "Naivegrid.best_estimator_"
      ]
    },
    {
      "cell_type": "code",
      "execution_count": null,
      "metadata": {
        "colab": {
          "base_uri": "https://localhost:8080/"
        },
        "id": "dF8tAXapQgTh",
        "outputId": "9a04d40e-3e51-4593-a83b-804bea41a3b4"
      },
      "outputs": [
        {
          "name": "stdout",
          "output_type": "stream",
          "text": [
            "Naive_Bayes()\n",
            "Accuracy Score for Naive_Bayes 0.8170526411574685\n",
            "[[15950   741]\n",
            " [ 3280  2008]]\n",
            "              precision    recall  f1-score   support\n",
            "\n",
            "           0       0.83      0.96      0.89     16691\n",
            "           1       0.73      0.38      0.50      5288\n",
            "\n",
            "    accuracy                           0.82     21979\n",
            "   macro avg       0.78      0.67      0.69     21979\n",
            "weighted avg       0.81      0.82      0.79     21979\n",
            "\n"
          ]
        }
      ],
      "source": [
        "tuned_nb=GaussianNB(var_smoothing=0.05366976945540476)\n",
        "\n",
        "tuned_nb.fit(X_train, Y_train)\n",
        "Y_Naive_predict_final = tuned_nb.predict(X_test)\n",
        "\n",
        "print(\"Naive_Bayes()\")\n",
        "print(\"Accuracy Score for Naive_Bayes\",str(accuracy_score(Y_test,Y_Naive_predict_final)))\n",
        "print(confusion_matrix(Y_test,Y_Naive_predict_final))\n",
        "print(classification_report(Y_test, Y_Naive_predict_final))"
      ]
    },
    {
      "cell_type": "markdown",
      "metadata": {
        "id": "L8egljV7tBII"
      },
      "source": [
        "# Tuning KNeighborsClassifier()\n"
      ]
    },
    {
      "cell_type": "code",
      "execution_count": null,
      "metadata": {
        "id": "9WokUpIqs343"
      },
      "outputs": [],
      "source": [
        "\n",
        "KNN_parameters = {'n_neighbors': [1,2,5,7,9,11,18,30], 'leaf_size': [1,2,5,10,20,30], 'p': (1,2), 'weights':('uniform','distance'), 'metric':('minkowski','chebyshev')}\n",
        "KNN_grid = GridSearchCV(KNeighborsClassifier(), KNN_parameters, verbose = 1, cv=10, scoring = 'f1_macro')\n",
        "KNN_tuned = KNN_grid.fit(X_train,Y_train)\n",
        "Y_KNN_predict = KNN_tuned.predict(X_test)\n",
        "print(\"Tuned_KNN_Model()\")\n",
        "print(\"Accuracy Score for KNN model\",str(accuracy_score(Y_test,Y_KNN_predict)))\n",
        "print(confusion_matrix(Y_test,Y_KNN_predict))\n",
        "print(classification_report(Y_test,Y_KNN_predict))"
      ]
    },
    {
      "cell_type": "code",
      "execution_count": null,
      "metadata": {
        "id": "7j9lZ5TFRpIQ"
      },
      "outputs": [],
      "source": [
        "KNN_grid.best_estimator_"
      ]
    },
    {
      "cell_type": "code",
      "execution_count": null,
      "metadata": {
        "colab": {
          "base_uri": "https://localhost:8080/"
        },
        "id": "kTa_KiqRRulv",
        "outputId": "401026e5-3b69-4e3f-d6e4-f217f0dd369a"
      },
      "outputs": [
        {
          "name": "stdout",
          "output_type": "stream",
          "text": [
            "KNN()\n",
            "Accuracy Score for KNN 0.8373447381591519\n",
            "[[15402  1289]\n",
            " [ 2286  3002]]\n",
            "              precision    recall  f1-score   support\n",
            "\n",
            "           0       0.87      0.92      0.90     16691\n",
            "           1       0.70      0.57      0.63      5288\n",
            "\n",
            "    accuracy                           0.84     21979\n",
            "   macro avg       0.79      0.75      0.76     21979\n",
            "weighted avg       0.83      0.84      0.83     21979\n",
            "\n"
          ]
        }
      ],
      "source": [
        "tuned_knn=KNeighborsClassifier(leaf_size=1, n_neighbors=30, p=1, weights='distance')\n",
        "tuned_knn.fit(X_train, Y_train)\n",
        "Y_KNN_predict_final = tuned_knn.predict(X_test)\n",
        "\n",
        "print(\"KNN()\")\n",
        "print(\"Accuracy Score for KNN\",str(accuracy_score(Y_test,Y_KNN_predict_final)))\n",
        "print(confusion_matrix(Y_test,Y_KNN_predict_final))\n",
        "print(classification_report(Y_test, Y_KNN_predict_final))"
      ]
    },
    {
      "cell_type": "markdown",
      "metadata": {
        "id": "VNm4wWVptCVi"
      },
      "source": [
        "# Tuning LogisticRegression()\n",
        "\n"
      ]
    },
    {
      "cell_type": "code",
      "execution_count": null,
      "metadata": {
        "id": "d_CCivD4s3r3"
      },
      "outputs": [],
      "source": [
        "lg_parameters = {'penalty': ['l1', 'l2'],'C':[0.001,0.01,0.1,1,10,100,1000]}\n",
        "lg_grid = GridSearchCV(lg, param_grid = lg_parameters, scoring = 'accuracy')\n",
        "lg_grid.fit(X_train, Y_train)\n",
        "Y_lg_predict = lg_grid.predict(X_test)\n",
        "\n",
        "print(\"Tuned_Logistic_regression()\")\n",
        "print(\"Accuracy Score for Logistic Regression\",str(accuracy_score(Y_test,Y_lg_predict)))\n",
        "print(classification_report(Y_test,Y_lg_predict))\n",
        "print(confusion_matrix(Y_test,Y_lg_predict))"
      ]
    },
    {
      "cell_type": "code",
      "execution_count": null,
      "metadata": {
        "id": "PF9jKaK7RPai"
      },
      "outputs": [],
      "source": [
        "lg_grid.best_estimator_"
      ]
    },
    {
      "cell_type": "code",
      "execution_count": null,
      "metadata": {
        "colab": {
          "base_uri": "https://localhost:8080/"
        },
        "id": "tiI1jghpRPOs",
        "outputId": "9a1b9f25-7a10-455c-fbae-27b03a5a26d8"
      },
      "outputs": [
        {
          "name": "stdout",
          "output_type": "stream",
          "text": [
            "lg()\n",
            "Accuracy Score for lg 0.820055507529915\n",
            "[[15667  1024]\n",
            " [ 2931  2357]]\n",
            "              precision    recall  f1-score   support\n",
            "\n",
            "           0       0.84      0.94      0.89     16691\n",
            "           1       0.70      0.45      0.54      5288\n",
            "\n",
            "    accuracy                           0.82     21979\n",
            "   macro avg       0.77      0.69      0.72     21979\n",
            "weighted avg       0.81      0.82      0.81     21979\n",
            "\n"
          ]
        }
      ],
      "source": [
        "tuned_lg=LogisticRegression(C=0.1)\n",
        "tuned_lg.fit(X_train, Y_train)\n",
        "Y_lg_predict_final = tuned_lg.predict(X_test)\n",
        "\n",
        "print(\"lg()\")\n",
        "print(\"Accuracy Score for lg\",str(accuracy_score(Y_test,Y_lg_predict_final)))\n",
        "print(confusion_matrix(Y_test,Y_lg_predict_final))\n",
        "print(classification_report(Y_test, Y_lg_predict_final))"
      ]
    },
    {
      "cell_type": "markdown",
      "metadata": {
        "id": "RW84TtGXtDgm"
      },
      "source": [
        "# Tuning RandomForestClassifier()\n"
      ]
    },
    {
      "cell_type": "code",
      "execution_count": null,
      "metadata": {
        "id": "vEdmwtc3s3h8"
      },
      "outputs": [],
      "source": [
        "max_depth = [int(x) for x in np.linspace(10, 50, num = 5)]\n",
        "max_depth.append(None)\n",
        "random_parameters = {'n_estimators': [int(x) for x in np.linspace(start = 100, stop = 200, num = 10)],\n",
        "               'max_features': ['auto', 'sqrt'],\n",
        "               'max_depth': max_depth,\n",
        "               'min_samples_split':  [2, 5, 10],\n",
        "               'min_samples_leaf': [1, 2, 4, 10],\n",
        "               'bootstrap': [True, False]}\n",
        "random_grid = GridSearchCV(estimator = rfc, param_grid = random_parameters, cv=10, scoring ='f1_macro' )\n",
        "random_tuned = rfc.fit(X_train,Y_train)\n",
        "Y_random_predict = random_tuned.predict(X_test)\n",
        "\n",
        "\n",
        "\n",
        "random_grid.fit(X_train, Y_train)\n",
        "print(\"Random_forest_classifier()\")\n",
        "print(\"Accuracy Score for Random_forest_Classifier\",str(accuracy_score(Y_test,Y_random_predict)))\n",
        "print(confusion_matrix(Y_test,Y_random_predict))\n",
        "print(classification_report(Y_test, Y_random_predict))"
      ]
    },
    {
      "cell_type": "code",
      "execution_count": null,
      "metadata": {
        "id": "yusMGneU55jE"
      },
      "outputs": [],
      "source": [
        "random_grid.best_estimator_"
      ]
    },
    {
      "cell_type": "code",
      "source": [
        "tuned_random\n",
        "tuned_random.fit(X_train, Y_train)\n",
        "Y_random_predict_final = tuned_random.predict(X_test)\n",
        "\n",
        "print(\"Random_forest_classifier()\")\n",
        "print(\"Accuracy Score for Random Forest Classifier\",str(accuracy_score(Y_test,Y_Naive_predict_final)))\n",
        "print(confusion_matrix(Y_test,Y_random_predict_final))\n",
        "print(classification_report(Y_test, Y_random_predict_final))"
      ],
      "metadata": {
        "id": "5SXCOQRYqUWG"
      },
      "execution_count": null,
      "outputs": []
    },
    {
      "cell_type": "markdown",
      "metadata": {
        "id": "bdKQP5-ntEZF"
      },
      "source": [
        "# Tuning DecisionTreeClassifier()"
      ]
    },
    {
      "cell_type": "code",
      "execution_count": null,
      "metadata": {
        "id": "qnLFHgzDs3XR",
        "outputId": "5f6032f6-644c-460d-a9d4-4d79e2574886"
      },
      "outputs": [
        {
          "name": "stdout",
          "output_type": "stream",
          "text": [
            "Tuned_Decision Tree_Classifier\n",
            "Accuracy Score for Decision Tree 0.8416670458164611\n",
            "              precision    recall  f1-score   support\n",
            "\n",
            "           0       0.86      0.95      0.90     16691\n",
            "           1       0.75      0.51      0.61      5288\n",
            "\n",
            "    accuracy                           0.84     21979\n",
            "   macro avg       0.81      0.73      0.75     21979\n",
            "weighted avg       0.83      0.84      0.83     21979\n",
            "\n",
            "[[15810   881]\n",
            " [ 2599  2689]]\n"
          ]
        }
      ],
      "source": [
        "dt_parameters={'max_depth' : (3,5,7,9,10,15,20,25)\n",
        "              , 'criterion' : ('gini', 'entropy')\n",
        "              , 'max_features' : ('auto', 'sqrt', 'log2')\n",
        "              , 'min_samples_split' : (2,4,6)\n",
        "             }\n",
        "dt_grid = GridSearchCV(dt, param_grid = dt_parameters, scoring = 'accuracy')\n",
        "dt_grid.fit(X_train, Y_train)\n",
        "Y_dt_predict = dt_grid.predict(X_test)\n",
        "\n",
        "print(\"Tuned_Decision Tree_Classifier\")\n",
        "print(\"Accuracy Score for Decision Tree\",str(accuracy_score(Y_test,Y_dt_predict)))\n",
        "print(classification_report(Y_test,Y_dt_predict))\n",
        "print(confusion_matrix(Y_test,Y_dt_predict))"
      ]
    },
    {
      "cell_type": "code",
      "execution_count": null,
      "metadata": {
        "id": "a_-QJ9lyqJjk",
        "outputId": "c9d21070-8b4b-4a7f-fd0a-97ff2e7367e2"
      },
      "outputs": [
        {
          "data": {
            "text/plain": [
              "DecisionTreeClassifier(criterion='entropy', max_depth=9, max_features='sqrt',\n",
              "                       min_samples_split=4)"
            ]
          },
          "execution_count": 27,
          "metadata": {},
          "output_type": "execute_result"
        }
      ],
      "source": [
        "dt_grid.best_estimator_"
      ]
    },
    {
      "cell_type": "code",
      "execution_count": null,
      "metadata": {
        "id": "gO0Vj5v2qJjk",
        "outputId": "6d4bf203-75df-411f-d2af-d2bd662e4398"
      },
      "outputs": [
        {
          "name": "stdout",
          "output_type": "stream",
          "text": [
            "dt()\n",
            "Final Accuracy Score for dt 0.8422585194958825\n",
            "[[15604  1087]\n",
            " [ 2380  2908]]\n",
            "              precision    recall  f1-score   support\n",
            "\n",
            "           0       0.87      0.93      0.90     16691\n",
            "           1       0.73      0.55      0.63      5288\n",
            "\n",
            "    accuracy                           0.84     21979\n",
            "   macro avg       0.80      0.74      0.76     21979\n",
            "weighted avg       0.83      0.84      0.83     21979\n",
            "\n"
          ]
        }
      ],
      "source": [
        "tuned_dt=DecisionTreeClassifier(criterion='entropy', max_depth=9, max_features='sqrt',\n",
        "                       min_samples_split=4)\n",
        "tuned_dt.fit(X_train, Y_train)\n",
        "Y_dt_predict_final = tuned_dt.predict(X_test)\n",
        "\n",
        "print(\"dt()\")\n",
        "print(\"Final Accuracy Score for dt\",str(accuracy_score(Y_test,Y_dt_predict_final)))\n",
        "print(confusion_matrix(Y_test,Y_dt_predict_final))\n",
        "print(classification_report(Y_test, Y_dt_predict_final))"
      ]
    },
    {
      "cell_type": "markdown",
      "metadata": {
        "id": "jPoBdZLytE83"
      },
      "source": [
        "# Tuning GradientBoostingClassifier()\n",
        "\n"
      ]
    },
    {
      "cell_type": "code",
      "execution_count": null,
      "metadata": {
        "id": "X8TbY2PrqJjk"
      },
      "outputs": [],
      "source": [
        "grid.best_estimator_"
      ]
    },
    {
      "cell_type": "code",
      "execution_count": null,
      "metadata": {
        "id": "AXyRqQptqJjk",
        "outputId": "4a19b692-1cc8-44d9-e4e0-ab7fd96c4bfc"
      },
      "outputs": [
        {
          "name": "stdout",
          "output_type": "stream",
          "text": [
            "gbc()\n",
            "Final Accuracy Score for gbc 0.8717867054916056\n",
            "[[15742   949]\n",
            " [ 1869  3419]]\n",
            "              precision    recall  f1-score   support\n",
            "\n",
            "           0       0.89      0.94      0.92     16691\n",
            "           1       0.78      0.65      0.71      5288\n",
            "\n",
            "    accuracy                           0.87     21979\n",
            "   macro avg       0.84      0.79      0.81     21979\n",
            "weighted avg       0.87      0.87      0.87     21979\n",
            "\n"
          ]
        }
      ],
      "source": [
        "tuned_gbc=GradientBoostingClassifier(max_depth=6, min_samples_leaf=20)\n",
        "tuned_gbc.fit(X_train, Y_train)\n",
        "Y_gbc_predict_final = tuned_gbc.predict(X_test)\n",
        "\n",
        "print(\"gbc()\")\n",
        "print(\"Final Accuracy Score for gbc\",str(accuracy_score(Y_test,Y_gbc_predict_final)))\n",
        "print(confusion_matrix(Y_test,Y_gbc_predict_final))\n",
        "print(classification_report(Y_test, Y_gbc_predict_final))"
      ]
    },
    {
      "cell_type": "markdown",
      "metadata": {
        "id": "Xb5i6c7stGHC"
      },
      "source": [
        "# Tuning SVC()\n"
      ]
    },
    {
      "cell_type": "code",
      "execution_count": null,
      "metadata": {
        "colab": {
          "base_uri": "https://localhost:8080/"
        },
        "id": "9XeT-HQZs3B6",
        "outputId": "a9b21a66-3171-46f8-c523-9d1a0af1ea87"
      },
      "outputs": [
        {
          "name": "stdout",
          "output_type": "stream",
          "text": [
            "SVC\n",
            "Accuracy Score for SVC 0.847217798807953\n",
            "              precision    recall  f1-score   support\n",
            "\n",
            "           0       0.87      0.94      0.90     16691\n",
            "           1       0.75      0.54      0.63      5288\n",
            "\n",
            "    accuracy                           0.85     21979\n",
            "   macro avg       0.81      0.74      0.77     21979\n",
            "weighted avg       0.84      0.85      0.84     21979\n",
            "\n",
            "[[15758   933]\n",
            " [ 2425  2863]]\n"
          ]
        }
      ],
      "source": [
        "svc_param = {'C': [0.1, 1, 10, 100, 1000],\n",
        "              'gamma': [1, 0.1, 0.01, 0.001, 0.0001],\n",
        "              'kernel': ['rbf']}\n",
        "svc_grid = GridSearchCV(SVC(), param_grid=svc_param, scoring = 'accuracy')\n",
        "svc_grid.fit(X_train, Y_train)\n",
        "Y_svc_predict = svc_grid.predict(X_test)\n",
        "\n",
        "print(\"SVC\")\n",
        "print(\"Accuracy Score for SVC\",str(accuracy_score(Y_test,Y_svc_predict)))\n",
        "print(classification_report(Y_test,Y_svc_predict))\n",
        "print(confusion_matrix(Y_test,Y_svc_predict))\n"
      ]
    },
    {
      "cell_type": "code",
      "execution_count": null,
      "metadata": {
        "id": "oD-m3vrHqJjl",
        "outputId": "19a7b033-78ee-42d6-a022-de3a19215992"
      },
      "outputs": [
        {
          "data": {
            "text/plain": [
              "SVC(C=1, gamma=0.1)"
            ]
          },
          "execution_count": 23,
          "metadata": {},
          "output_type": "execute_result"
        }
      ],
      "source": [
        "svc_grid.best_estimator_"
      ]
    },
    {
      "cell_type": "code",
      "execution_count": null,
      "metadata": {
        "id": "p8wsvE5JqJjl"
      },
      "outputs": [],
      "source": [
        "tuned_dt=SVC(C=1, gamma=0.1)\n",
        "tuned_svc.fit(X_train, Y_train)\n",
        "Y_svc_predict_final = tuned_svc.predict(X_test)\n",
        "\n",
        "print(\"SVC()\")\n",
        "print(\"Finl Accuracy Score for svc\",str(accuracy_score(Y_test,Y_svc_predict_final)))\n",
        "print(confusion_matrix(Y_test,Y_svc_predict_final))\n",
        "print(classification_report(Y_test, Y_svc_predict_final))"
      ]
    },
    {
      "cell_type": "markdown",
      "metadata": {
        "id": "LQvef-_IxH1d"
      },
      "source": [
        "# Cross Validation"
      ]
    },
    {
      "cell_type": "code",
      "execution_count": null,
      "metadata": {
        "id": "cOEMWIMwxHLH",
        "outputId": "7f6b31b9-7c44-458a-a2f0-f58f32828969"
      },
      "outputs": [
        {
          "name": "stderr",
          "output_type": "stream",
          "text": [
            " 14%|████████████                                                                        | 1/7 [00:08<00:52,  8.71s/it]"
          ]
        },
        {
          "name": "stdout",
          "output_type": "stream",
          "text": [
            "[0.87105874 0.87414687]\n"
          ]
        },
        {
          "name": "stderr",
          "output_type": "stream",
          "text": [
            "\r",
            " 29%|████████████████████████                                                            | 2/7 [00:25<01:06, 13.37s/it]"
          ]
        },
        {
          "name": "stdout",
          "output_type": "stream",
          "text": [
            "[0.87176687 0.87421512 0.87585313]\n"
          ]
        },
        {
          "name": "stderr",
          "output_type": "stream",
          "text": [
            "\r",
            " 43%|████████████████████████████████████                                                | 3/7 [00:50<01:14, 18.68s/it]"
          ]
        },
        {
          "name": "stdout",
          "output_type": "stream",
          "text": [
            "[0.87070064 0.87232687 0.87496587 0.87705888]\n"
          ]
        },
        {
          "name": "stderr",
          "output_type": "stream",
          "text": [
            "\r",
            " 57%|████████████████████████████████████████████████                                    | 4/7 [01:23<01:13, 24.46s/it]"
          ]
        },
        {
          "name": "stdout",
          "output_type": "stream",
          "text": [
            "[0.86976797 0.87397634 0.87305198 0.87794335 0.87714708]\n"
          ]
        },
        {
          "name": "stderr",
          "output_type": "stream",
          "text": [
            "\r",
            " 71%|████████████████████████████████████████████████████████████                        | 5/7 [02:05<01:01, 30.83s/it]"
          ]
        },
        {
          "name": "stdout",
          "output_type": "stream",
          "text": [
            "[0.8657022  0.87933388 0.87141687 0.87742288 0.87291837 0.88028938]\n"
          ]
        },
        {
          "name": "stderr",
          "output_type": "stream",
          "text": [
            "\r",
            " 86%|████████████████████████████████████████████████████████████████████████            | 6/7 [02:59<00:38, 38.54s/it]"
          ]
        },
        {
          "name": "stdout",
          "output_type": "stream",
          "text": [
            "[0.86401274 0.87898089 0.87627389 0.87308917 0.87275044 0.87991718\n",
            " 0.87673196]\n"
          ]
        },
        {
          "name": "stderr",
          "output_type": "stream",
          "text": [
            "100%|████████████████████████████████████████████████████████████████████████████████████| 7/7 [04:00<00:00, 34.35s/it]"
          ]
        },
        {
          "name": "stdout",
          "output_type": "stream",
          "text": [
            "[0.8644222  0.87898089 0.87479527 0.87024568 0.88043676 0.87368038\n",
            " 0.88023298 0.87404441]\n"
          ]
        },
        {
          "name": "stderr",
          "output_type": "stream",
          "text": [
            "\n"
          ]
        }
      ],
      "source": [
        "from sklearn.model_selection import cross_val_score\n",
        "from tqdm import tqdm\n",
        "for i in tqdm(range(2,9)):\n",
        "    cv=cross_val_score(tuned_gbc, x, y, cv=i)\n",
        "    print(cv)"
      ]
    },
    {
      "cell_type": "code",
      "execution_count": null,
      "metadata": {
        "id": "2_l5lKFQqJjl"
      },
      "outputs": [],
      "source": [
        "dff= pd.read_csv(\"test.csv\")\n",
        "test = pd.read_csv(\"test.csv\")\n",
        "#my dataset has both categorical and numerical data, i need to encode categorical data to apply models to it\n",
        "import pandas as pd\n",
        "from sklearn.preprocessing import LabelEncoder\n",
        "Labenc=LabelEncoder()\n",
        "dff[\"workclass\"]=Labenc.fit_transform(dff[\"workclass\"])\n",
        "dff[\"education\"]=Labenc.fit_transform(dff[\"education\"])\n",
        "dff[\"marital-status\"]=Labenc.fit_transform(dff[\"marital-status\"])\n",
        "dff[\"occupation\"]=Labenc.fit_transform(dff[\"occupation\"])\n",
        "dff[\"relationship\"]=Labenc.fit_transform(dff[\"relationship\"])\n",
        "dff[\"race\"]=Labenc.fit_transform(dff[\"race\"])\n",
        "dff[\"gender\"]=Labenc.fit_transform(dff[\"gender\"])\n",
        "dff[\"native-country\"]=Labenc.fit_transform(dff[\"native-country\"])\n",
        "\n",
        "Y_final_predict = tuned_gbc.predict(dff)"
      ]
    },
    {
      "cell_type": "code",
      "execution_count": null,
      "metadata": {
        "id": "uPVj2YICqJjm",
        "outputId": "def18316-e26b-43fe-f40f-bf443607ad04"
      },
      "outputs": [
        {
          "data": {
            "text/html": [
              "<div>\n",
              "<style scoped>\n",
              "    .dataframe tbody tr th:only-of-type {\n",
              "        vertical-align: middle;\n",
              "    }\n",
              "\n",
              "    .dataframe tbody tr th {\n",
              "        vertical-align: top;\n",
              "    }\n",
              "\n",
              "    .dataframe thead th {\n",
              "        text-align: right;\n",
              "    }\n",
              "</style>\n",
              "<table border=\"1\" class=\"dataframe\">\n",
              "  <thead>\n",
              "    <tr style=\"text-align: right;\">\n",
              "      <th></th>\n",
              "      <th>age</th>\n",
              "      <th>workclass</th>\n",
              "      <th>fnlwgt</th>\n",
              "      <th>education</th>\n",
              "      <th>educational-num</th>\n",
              "      <th>marital-status</th>\n",
              "      <th>occupation</th>\n",
              "      <th>relationship</th>\n",
              "      <th>race</th>\n",
              "      <th>gender</th>\n",
              "      <th>capital-gain</th>\n",
              "      <th>capital-loss</th>\n",
              "      <th>hours-per-week</th>\n",
              "      <th>native-country</th>\n",
              "    </tr>\n",
              "  </thead>\n",
              "  <tbody>\n",
              "    <tr>\n",
              "      <th>0</th>\n",
              "      <td>39</td>\n",
              "      <td>Self-emp-not-inc</td>\n",
              "      <td>327120</td>\n",
              "      <td>HS-grad</td>\n",
              "      <td>9</td>\n",
              "      <td>Married-civ-spouse</td>\n",
              "      <td>Craft-repair</td>\n",
              "      <td>Husband</td>\n",
              "      <td>White</td>\n",
              "      <td>Male</td>\n",
              "      <td>0</td>\n",
              "      <td>0</td>\n",
              "      <td>40</td>\n",
              "      <td>Portugal</td>\n",
              "    </tr>\n",
              "    <tr>\n",
              "      <th>1</th>\n",
              "      <td>32</td>\n",
              "      <td>Private</td>\n",
              "      <td>123253</td>\n",
              "      <td>Assoc-acdm</td>\n",
              "      <td>12</td>\n",
              "      <td>Married-civ-spouse</td>\n",
              "      <td>Craft-repair</td>\n",
              "      <td>Husband</td>\n",
              "      <td>White</td>\n",
              "      <td>Male</td>\n",
              "      <td>0</td>\n",
              "      <td>0</td>\n",
              "      <td>42</td>\n",
              "      <td>United-States</td>\n",
              "    </tr>\n",
              "    <tr>\n",
              "      <th>2</th>\n",
              "      <td>47</td>\n",
              "      <td>Private</td>\n",
              "      <td>232628</td>\n",
              "      <td>HS-grad</td>\n",
              "      <td>9</td>\n",
              "      <td>Married-civ-spouse</td>\n",
              "      <td>Craft-repair</td>\n",
              "      <td>Husband</td>\n",
              "      <td>Black</td>\n",
              "      <td>Male</td>\n",
              "      <td>0</td>\n",
              "      <td>0</td>\n",
              "      <td>40</td>\n",
              "      <td>United-States</td>\n",
              "    </tr>\n",
              "    <tr>\n",
              "      <th>3</th>\n",
              "      <td>19</td>\n",
              "      <td>Private</td>\n",
              "      <td>374262</td>\n",
              "      <td>12th</td>\n",
              "      <td>8</td>\n",
              "      <td>Never-married</td>\n",
              "      <td>Handlers-cleaners</td>\n",
              "      <td>Own-child</td>\n",
              "      <td>White</td>\n",
              "      <td>Male</td>\n",
              "      <td>0</td>\n",
              "      <td>0</td>\n",
              "      <td>20</td>\n",
              "      <td>United-States</td>\n",
              "    </tr>\n",
              "    <tr>\n",
              "      <th>4</th>\n",
              "      <td>46</td>\n",
              "      <td>Self-emp-not-inc</td>\n",
              "      <td>311231</td>\n",
              "      <td>HS-grad</td>\n",
              "      <td>9</td>\n",
              "      <td>Married-civ-spouse</td>\n",
              "      <td>Farming-fishing</td>\n",
              "      <td>Husband</td>\n",
              "      <td>White</td>\n",
              "      <td>Male</td>\n",
              "      <td>0</td>\n",
              "      <td>0</td>\n",
              "      <td>40</td>\n",
              "      <td>United-States</td>\n",
              "    </tr>\n",
              "    <tr>\n",
              "      <th>...</th>\n",
              "      <td>...</td>\n",
              "      <td>...</td>\n",
              "      <td>...</td>\n",
              "      <td>...</td>\n",
              "      <td>...</td>\n",
              "      <td>...</td>\n",
              "      <td>...</td>\n",
              "      <td>...</td>\n",
              "      <td>...</td>\n",
              "      <td>...</td>\n",
              "      <td>...</td>\n",
              "      <td>...</td>\n",
              "      <td>...</td>\n",
              "      <td>...</td>\n",
              "    </tr>\n",
              "    <tr>\n",
              "      <th>894</th>\n",
              "      <td>27</td>\n",
              "      <td>Private</td>\n",
              "      <td>302406</td>\n",
              "      <td>Masters</td>\n",
              "      <td>14</td>\n",
              "      <td>Married-civ-spouse</td>\n",
              "      <td>Prof-specialty</td>\n",
              "      <td>Husband</td>\n",
              "      <td>White</td>\n",
              "      <td>Male</td>\n",
              "      <td>0</td>\n",
              "      <td>0</td>\n",
              "      <td>55</td>\n",
              "      <td>United-States</td>\n",
              "    </tr>\n",
              "    <tr>\n",
              "      <th>895</th>\n",
              "      <td>17</td>\n",
              "      <td>Private</td>\n",
              "      <td>218124</td>\n",
              "      <td>11th</td>\n",
              "      <td>7</td>\n",
              "      <td>Never-married</td>\n",
              "      <td>Sales</td>\n",
              "      <td>Own-child</td>\n",
              "      <td>White</td>\n",
              "      <td>Female</td>\n",
              "      <td>0</td>\n",
              "      <td>0</td>\n",
              "      <td>20</td>\n",
              "      <td>United-States</td>\n",
              "    </tr>\n",
              "    <tr>\n",
              "      <th>896</th>\n",
              "      <td>24</td>\n",
              "      <td>Private</td>\n",
              "      <td>127139</td>\n",
              "      <td>Some-college</td>\n",
              "      <td>10</td>\n",
              "      <td>Never-married</td>\n",
              "      <td>Adm-clerical</td>\n",
              "      <td>Own-child</td>\n",
              "      <td>White</td>\n",
              "      <td>Female</td>\n",
              "      <td>0</td>\n",
              "      <td>0</td>\n",
              "      <td>40</td>\n",
              "      <td>United-States</td>\n",
              "    </tr>\n",
              "    <tr>\n",
              "      <th>897</th>\n",
              "      <td>35</td>\n",
              "      <td>Private</td>\n",
              "      <td>132879</td>\n",
              "      <td>Some-college</td>\n",
              "      <td>10</td>\n",
              "      <td>Married-civ-spouse</td>\n",
              "      <td>Tech-support</td>\n",
              "      <td>Husband</td>\n",
              "      <td>White</td>\n",
              "      <td>Male</td>\n",
              "      <td>0</td>\n",
              "      <td>0</td>\n",
              "      <td>40</td>\n",
              "      <td>United-States</td>\n",
              "    </tr>\n",
              "    <tr>\n",
              "      <th>898</th>\n",
              "      <td>37</td>\n",
              "      <td>Local-gov</td>\n",
              "      <td>44694</td>\n",
              "      <td>Masters</td>\n",
              "      <td>14</td>\n",
              "      <td>Married-civ-spouse</td>\n",
              "      <td>Prof-specialty</td>\n",
              "      <td>Wife</td>\n",
              "      <td>White</td>\n",
              "      <td>Female</td>\n",
              "      <td>0</td>\n",
              "      <td>0</td>\n",
              "      <td>45</td>\n",
              "      <td>United-States</td>\n",
              "    </tr>\n",
              "  </tbody>\n",
              "</table>\n",
              "<p>899 rows × 14 columns</p>\n",
              "</div>"
            ],
            "text/plain": [
              "     age         workclass  fnlwgt     education  educational-num  \\\n",
              "0     39  Self-emp-not-inc  327120       HS-grad                9   \n",
              "1     32           Private  123253    Assoc-acdm               12   \n",
              "2     47           Private  232628       HS-grad                9   \n",
              "3     19           Private  374262          12th                8   \n",
              "4     46  Self-emp-not-inc  311231       HS-grad                9   \n",
              "..   ...               ...     ...           ...              ...   \n",
              "894   27           Private  302406       Masters               14   \n",
              "895   17           Private  218124          11th                7   \n",
              "896   24           Private  127139  Some-college               10   \n",
              "897   35           Private  132879  Some-college               10   \n",
              "898   37         Local-gov   44694       Masters               14   \n",
              "\n",
              "         marital-status         occupation relationship   race  gender  \\\n",
              "0    Married-civ-spouse       Craft-repair      Husband  White    Male   \n",
              "1    Married-civ-spouse       Craft-repair      Husband  White    Male   \n",
              "2    Married-civ-spouse       Craft-repair      Husband  Black    Male   \n",
              "3         Never-married  Handlers-cleaners    Own-child  White    Male   \n",
              "4    Married-civ-spouse    Farming-fishing      Husband  White    Male   \n",
              "..                  ...                ...          ...    ...     ...   \n",
              "894  Married-civ-spouse     Prof-specialty      Husband  White    Male   \n",
              "895       Never-married              Sales    Own-child  White  Female   \n",
              "896       Never-married       Adm-clerical    Own-child  White  Female   \n",
              "897  Married-civ-spouse       Tech-support      Husband  White    Male   \n",
              "898  Married-civ-spouse     Prof-specialty         Wife  White  Female   \n",
              "\n",
              "     capital-gain  capital-loss  hours-per-week native-country  \n",
              "0               0             0              40       Portugal  \n",
              "1               0             0              42  United-States  \n",
              "2               0             0              40  United-States  \n",
              "3               0             0              20  United-States  \n",
              "4               0             0              40  United-States  \n",
              "..            ...           ...             ...            ...  \n",
              "894             0             0              55  United-States  \n",
              "895             0             0              20  United-States  \n",
              "896             0             0              40  United-States  \n",
              "897             0             0              40  United-States  \n",
              "898             0             0              45  United-States  \n",
              "\n",
              "[899 rows x 14 columns]"
            ]
          },
          "execution_count": 41,
          "metadata": {},
          "output_type": "execute_result"
        }
      ],
      "source": [
        "test"
      ]
    },
    {
      "cell_type": "code",
      "execution_count": null,
      "metadata": {
        "id": "0hQ6w-jxqJjm",
        "outputId": "4a40b747-15dd-4aec-ae18-f1ea01b5d2c6"
      },
      "outputs": [
        {
          "data": {
            "text/html": [
              "<div>\n",
              "<style scoped>\n",
              "    .dataframe tbody tr th:only-of-type {\n",
              "        vertical-align: middle;\n",
              "    }\n",
              "\n",
              "    .dataframe tbody tr th {\n",
              "        vertical-align: top;\n",
              "    }\n",
              "\n",
              "    .dataframe thead th {\n",
              "        text-align: right;\n",
              "    }\n",
              "</style>\n",
              "<table border=\"1\" class=\"dataframe\">\n",
              "  <thead>\n",
              "    <tr style=\"text-align: right;\">\n",
              "      <th></th>\n",
              "      <th>age</th>\n",
              "      <th>workclass</th>\n",
              "      <th>fnlwgt</th>\n",
              "      <th>education</th>\n",
              "      <th>educational-num</th>\n",
              "      <th>marital-status</th>\n",
              "      <th>occupation</th>\n",
              "      <th>relationship</th>\n",
              "      <th>race</th>\n",
              "      <th>gender</th>\n",
              "      <th>capital-gain</th>\n",
              "      <th>capital-loss</th>\n",
              "      <th>hours-per-week</th>\n",
              "      <th>native-country</th>\n",
              "      <th>Income</th>\n",
              "    </tr>\n",
              "  </thead>\n",
              "  <tbody>\n",
              "    <tr>\n",
              "      <th>0</th>\n",
              "      <td>39</td>\n",
              "      <td>Self-emp-not-inc</td>\n",
              "      <td>327120</td>\n",
              "      <td>HS-grad</td>\n",
              "      <td>9</td>\n",
              "      <td>Married-civ-spouse</td>\n",
              "      <td>Craft-repair</td>\n",
              "      <td>Husband</td>\n",
              "      <td>White</td>\n",
              "      <td>Male</td>\n",
              "      <td>0</td>\n",
              "      <td>0</td>\n",
              "      <td>40</td>\n",
              "      <td>Portugal</td>\n",
              "      <td>0</td>\n",
              "    </tr>\n",
              "    <tr>\n",
              "      <th>1</th>\n",
              "      <td>32</td>\n",
              "      <td>Private</td>\n",
              "      <td>123253</td>\n",
              "      <td>Assoc-acdm</td>\n",
              "      <td>12</td>\n",
              "      <td>Married-civ-spouse</td>\n",
              "      <td>Craft-repair</td>\n",
              "      <td>Husband</td>\n",
              "      <td>White</td>\n",
              "      <td>Male</td>\n",
              "      <td>0</td>\n",
              "      <td>0</td>\n",
              "      <td>42</td>\n",
              "      <td>United-States</td>\n",
              "      <td>0</td>\n",
              "    </tr>\n",
              "    <tr>\n",
              "      <th>2</th>\n",
              "      <td>47</td>\n",
              "      <td>Private</td>\n",
              "      <td>232628</td>\n",
              "      <td>HS-grad</td>\n",
              "      <td>9</td>\n",
              "      <td>Married-civ-spouse</td>\n",
              "      <td>Craft-repair</td>\n",
              "      <td>Husband</td>\n",
              "      <td>Black</td>\n",
              "      <td>Male</td>\n",
              "      <td>0</td>\n",
              "      <td>0</td>\n",
              "      <td>40</td>\n",
              "      <td>United-States</td>\n",
              "      <td>0</td>\n",
              "    </tr>\n",
              "    <tr>\n",
              "      <th>3</th>\n",
              "      <td>19</td>\n",
              "      <td>Private</td>\n",
              "      <td>374262</td>\n",
              "      <td>12th</td>\n",
              "      <td>8</td>\n",
              "      <td>Never-married</td>\n",
              "      <td>Handlers-cleaners</td>\n",
              "      <td>Own-child</td>\n",
              "      <td>White</td>\n",
              "      <td>Male</td>\n",
              "      <td>0</td>\n",
              "      <td>0</td>\n",
              "      <td>20</td>\n",
              "      <td>United-States</td>\n",
              "      <td>0</td>\n",
              "    </tr>\n",
              "    <tr>\n",
              "      <th>4</th>\n",
              "      <td>46</td>\n",
              "      <td>Self-emp-not-inc</td>\n",
              "      <td>311231</td>\n",
              "      <td>HS-grad</td>\n",
              "      <td>9</td>\n",
              "      <td>Married-civ-spouse</td>\n",
              "      <td>Farming-fishing</td>\n",
              "      <td>Husband</td>\n",
              "      <td>White</td>\n",
              "      <td>Male</td>\n",
              "      <td>0</td>\n",
              "      <td>0</td>\n",
              "      <td>40</td>\n",
              "      <td>United-States</td>\n",
              "      <td>0</td>\n",
              "    </tr>\n",
              "    <tr>\n",
              "      <th>...</th>\n",
              "      <td>...</td>\n",
              "      <td>...</td>\n",
              "      <td>...</td>\n",
              "      <td>...</td>\n",
              "      <td>...</td>\n",
              "      <td>...</td>\n",
              "      <td>...</td>\n",
              "      <td>...</td>\n",
              "      <td>...</td>\n",
              "      <td>...</td>\n",
              "      <td>...</td>\n",
              "      <td>...</td>\n",
              "      <td>...</td>\n",
              "      <td>...</td>\n",
              "      <td>...</td>\n",
              "    </tr>\n",
              "    <tr>\n",
              "      <th>894</th>\n",
              "      <td>27</td>\n",
              "      <td>Private</td>\n",
              "      <td>302406</td>\n",
              "      <td>Masters</td>\n",
              "      <td>14</td>\n",
              "      <td>Married-civ-spouse</td>\n",
              "      <td>Prof-specialty</td>\n",
              "      <td>Husband</td>\n",
              "      <td>White</td>\n",
              "      <td>Male</td>\n",
              "      <td>0</td>\n",
              "      <td>0</td>\n",
              "      <td>55</td>\n",
              "      <td>United-States</td>\n",
              "      <td>0</td>\n",
              "    </tr>\n",
              "    <tr>\n",
              "      <th>895</th>\n",
              "      <td>17</td>\n",
              "      <td>Private</td>\n",
              "      <td>218124</td>\n",
              "      <td>11th</td>\n",
              "      <td>7</td>\n",
              "      <td>Never-married</td>\n",
              "      <td>Sales</td>\n",
              "      <td>Own-child</td>\n",
              "      <td>White</td>\n",
              "      <td>Female</td>\n",
              "      <td>0</td>\n",
              "      <td>0</td>\n",
              "      <td>20</td>\n",
              "      <td>United-States</td>\n",
              "      <td>0</td>\n",
              "    </tr>\n",
              "    <tr>\n",
              "      <th>896</th>\n",
              "      <td>24</td>\n",
              "      <td>Private</td>\n",
              "      <td>127139</td>\n",
              "      <td>Some-college</td>\n",
              "      <td>10</td>\n",
              "      <td>Never-married</td>\n",
              "      <td>Adm-clerical</td>\n",
              "      <td>Own-child</td>\n",
              "      <td>White</td>\n",
              "      <td>Female</td>\n",
              "      <td>0</td>\n",
              "      <td>0</td>\n",
              "      <td>40</td>\n",
              "      <td>United-States</td>\n",
              "      <td>0</td>\n",
              "    </tr>\n",
              "    <tr>\n",
              "      <th>897</th>\n",
              "      <td>35</td>\n",
              "      <td>Private</td>\n",
              "      <td>132879</td>\n",
              "      <td>Some-college</td>\n",
              "      <td>10</td>\n",
              "      <td>Married-civ-spouse</td>\n",
              "      <td>Tech-support</td>\n",
              "      <td>Husband</td>\n",
              "      <td>White</td>\n",
              "      <td>Male</td>\n",
              "      <td>0</td>\n",
              "      <td>0</td>\n",
              "      <td>40</td>\n",
              "      <td>United-States</td>\n",
              "      <td>0</td>\n",
              "    </tr>\n",
              "    <tr>\n",
              "      <th>898</th>\n",
              "      <td>37</td>\n",
              "      <td>Local-gov</td>\n",
              "      <td>44694</td>\n",
              "      <td>Masters</td>\n",
              "      <td>14</td>\n",
              "      <td>Married-civ-spouse</td>\n",
              "      <td>Prof-specialty</td>\n",
              "      <td>Wife</td>\n",
              "      <td>White</td>\n",
              "      <td>Female</td>\n",
              "      <td>0</td>\n",
              "      <td>0</td>\n",
              "      <td>45</td>\n",
              "      <td>United-States</td>\n",
              "      <td>0</td>\n",
              "    </tr>\n",
              "  </tbody>\n",
              "</table>\n",
              "<p>899 rows × 15 columns</p>\n",
              "</div>"
            ],
            "text/plain": [
              "     age         workclass  fnlwgt     education  educational-num  \\\n",
              "0     39  Self-emp-not-inc  327120       HS-grad                9   \n",
              "1     32           Private  123253    Assoc-acdm               12   \n",
              "2     47           Private  232628       HS-grad                9   \n",
              "3     19           Private  374262          12th                8   \n",
              "4     46  Self-emp-not-inc  311231       HS-grad                9   \n",
              "..   ...               ...     ...           ...              ...   \n",
              "894   27           Private  302406       Masters               14   \n",
              "895   17           Private  218124          11th                7   \n",
              "896   24           Private  127139  Some-college               10   \n",
              "897   35           Private  132879  Some-college               10   \n",
              "898   37         Local-gov   44694       Masters               14   \n",
              "\n",
              "         marital-status         occupation relationship   race  gender  \\\n",
              "0    Married-civ-spouse       Craft-repair      Husband  White    Male   \n",
              "1    Married-civ-spouse       Craft-repair      Husband  White    Male   \n",
              "2    Married-civ-spouse       Craft-repair      Husband  Black    Male   \n",
              "3         Never-married  Handlers-cleaners    Own-child  White    Male   \n",
              "4    Married-civ-spouse    Farming-fishing      Husband  White    Male   \n",
              "..                  ...                ...          ...    ...     ...   \n",
              "894  Married-civ-spouse     Prof-specialty      Husband  White    Male   \n",
              "895       Never-married              Sales    Own-child  White  Female   \n",
              "896       Never-married       Adm-clerical    Own-child  White  Female   \n",
              "897  Married-civ-spouse       Tech-support      Husband  White    Male   \n",
              "898  Married-civ-spouse     Prof-specialty         Wife  White  Female   \n",
              "\n",
              "     capital-gain  capital-loss  hours-per-week native-country  Income  \n",
              "0               0             0              40       Portugal       0  \n",
              "1               0             0              42  United-States       0  \n",
              "2               0             0              40  United-States       0  \n",
              "3               0             0              20  United-States       0  \n",
              "4               0             0              40  United-States       0  \n",
              "..            ...           ...             ...            ...     ...  \n",
              "894             0             0              55  United-States       0  \n",
              "895             0             0              20  United-States       0  \n",
              "896             0             0              40  United-States       0  \n",
              "897             0             0              40  United-States       0  \n",
              "898             0             0              45  United-States       0  \n",
              "\n",
              "[899 rows x 15 columns]"
            ]
          },
          "execution_count": 42,
          "metadata": {},
          "output_type": "execute_result"
        }
      ],
      "source": [
        "test['Income']=Y_final_predict\n",
        "test"
      ]
    },
    {
      "cell_type": "code",
      "execution_count": null,
      "metadata": {
        "id": "mNCVxsBCqJjm"
      },
      "outputs": [],
      "source": [
        "test.to_csv(\"Deependra_Singh_predicted_test.txt\", index=None)"
      ]
    },
    {
      "cell_type": "code",
      "execution_count": null,
      "metadata": {
        "id": "pJCTNJvuqJjm"
      },
      "outputs": [],
      "source": [
        ""
      ]
    }
  ],
  "metadata": {
    "colab": {
      "collapsed_sections": [],
      "name": "Deependra_Singh_Sinsinwar_Code.ipynb",
      "provenance": []
    },
    "kernelspec": {
      "display_name": "Python 3 (ipykernel)",
      "language": "python",
      "name": "python3"
    },
    "language_info": {
      "codemirror_mode": {
        "name": "ipython",
        "version": 3
      },
      "file_extension": ".py",
      "mimetype": "text/x-python",
      "name": "python",
      "nbconvert_exporter": "python",
      "pygments_lexer": "ipython3",
      "version": "3.9.7"
    }
  },
  "nbformat": 4,
  "nbformat_minor": 0
}